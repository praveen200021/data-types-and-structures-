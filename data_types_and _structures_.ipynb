{
  "nbformat": 4,
  "nbformat_minor": 0,
  "metadata": {
    "colab": {
      "provenance": []
    },
    "kernelspec": {
      "name": "python3",
      "display_name": "Python 3"
    },
    "language_info": {
      "name": "python"
    }
  },
  "cells": [
    {
      "cell_type": "markdown",
      "source": [
        "1.What are data structures, and why are they important?\n",
        "\n",
        "  sol: Data structures are specialized formats for organizing, storing, and accessing collections of data. They provide efficient ways to manage information based on its characteristics and intended use.\n",
        "\n",
        "\n",
        "\n",
        "\n",
        "*    Choosing the right data structure significantly impacts the efficiency and performance of your program.\n",
        "*  Simplify data manipulation (adding, removing, modifying elements)\n",
        "*   Optimize searching and sorting operations\n",
        "*  Conserve memory usage\n",
        "\n",
        "---\n",
        "\n",
        "\n",
        "\n",
        "2.Explain the difference between mutable and immutable data types with examples.\n",
        "\n",
        "  sol:mutable objects such as list, dictionary can be edited or modified afer they have been created.\n",
        "  * immutables objects such as tupples, strings cannot be modified or edited once they have been created.\n",
        "\n",
        "---\n",
        "\n",
        "\n",
        "\n",
        "3.What are the main differences between lists and tuples in Python?\n",
        "\n",
        "  sol: lists are enclosed in [ ] brackets which are mutable,Lists can hold items of various data types numbers, strings, even other lists. You can add, remove, or modify elements within a list using indexing and slicing.\n",
        "\n",
        "  * tuples: are enclode in () brackets, are immutable, They provide a secure way to store data that shouldn't be modified. You can access elements using indexing and slicing, but you cannot modify the content.\n",
        "\n",
        "---\n",
        "\n",
        "4.Describe how dictionaries store data?\n",
        "\n",
        "  sol:  dictionaries stores data in key:vlaue pair . Dictionaries cannot have two items with the same key:\n",
        "\n",
        "---\n",
        "5.Why might you use a set instead of a list in Python?\n",
        "\n",
        "  sol:List: A list is an ordered collection of items that can hold duplicate values.\n",
        "  *  A set is an unordered collection of unique items. It does not allow duplicates. Sets automatically remove duplicate values. Only unique items are stored.\n",
        "\n",
        "---\n",
        "6.What is a string in Python, and how is it different from a list?\n",
        "\n",
        "  sol: string is a data type. List items can be of any data type which includes string .we can store multiple string into list.\n",
        "\n",
        "---\n",
        "7.How do tuples ensure data integrity in Python?\n",
        "\n",
        "  sol:Tuples are unchangeable, meaning that we cannot change, add or remove items after the tuple has been created.this ensures  the date integertity.\n",
        "\n",
        "---\n",
        "8.What is a hash table, and how does it relate to dictionaries in Python?\n",
        "\n",
        "  sol: A hash table is a data structure that stores key-value pairs, providing a very efficient way to access data.\n",
        "  * Python Dictionaries Use Hash Tablesas follows:\n",
        "\n",
        "Keys: When you add an item to a dictionary , the key is hashed to compute an index in the underlying hash table.\n",
        "\n",
        "Values: The value associated with the key is stored in the bucket that corresponds to the index computed by the hash function.\n",
        "\n",
        "Lookups: When you access a value using a key , Python hashes the key again and quickly retrieves the corresponding value from the hash table.\n",
        "\n",
        "---\n",
        "9.Can lists contain different data types in Python?\n",
        "\n",
        "  sol: yes\n",
        "\n",
        "\n",
        "---\n",
        "10.Explain why strings are immutable in Python?\n",
        "  \n",
        "  sol: Immutability in strings ensures better performance by optimizing memory usage, enabling efficient string interning and caching, enhances security by preventing unintended modifications and protecting sensitive data, and improves reliability by guaranteeing predictable behavior, simplifying code, and ensuring thread safety, all of which contribute to more efficient, secure, and maintainable Python programs.\n",
        "\n",
        "\n",
        "\n",
        "---\n",
        "11.What advantages do dictionaries offer over lists for certain tasks?\n",
        "\n",
        "  sol:\n",
        "  1. Faster Lookups\n",
        "Dictionaries allow you to quickly find items using a unique key, whereas with lists, you often have to search through the entire list, which takes longer as the list gets bigger.\n",
        "\n",
        "2. Key-Value Pair Mapping\n",
        "Dictionaries store data as pairs of keys and values. This is useful when you need to associate one item with another (e.g., a person's name with their phone number). Lists don't have this structure, so it's harder to manage pairs of related data.\n",
        "\n",
        "3. Efficient Insertions and Deletions\n",
        "In dictionaries, adding or removing items is fast and doesn't require rearranging other data. With lists, adding or removing items can be slower, especially if the data is in the middle of the list.\n",
        "\n",
        "4. Unique Keys\n",
        "Dictionaries automatically handle uniqueness by using keys, meaning you can't accidentally have the same key twice. Lists, on the other hand, allow duplicate items, which could make it harder to organize or identify data.\n",
        "\n",
        "---\n",
        "\n",
        "\n",
        "12.Describe a scenario where using a tuple would be preferable over a list?\n",
        "\n",
        "  sol:if we are storing data that should not  be modifyed , like adhaar number of individual which is permanent.\n",
        "\n",
        "---\n",
        "13.How do sets handle duplicate values in Python?\n",
        "\n",
        "  sol: A set is an unordered collection of unique items. It does not allow duplicates. Sets automatically remove duplicate values. Only unique items are stored.\n",
        "\n",
        "\n",
        "---\n",
        "\n",
        "\n",
        "14.How does the “in” keyword work differently for lists and dictionaries?\n",
        "\n",
        "  sol: When you use the in keyword with a list, it checks whether a value is present in the list. It looks through all the elements of the list to see if the specified value exists.\n",
        "  * When you use the in keyword with a dictionary, it checks whether a key is present in the dictionary, not a value.\n",
        "\n",
        "---\n",
        "\n",
        "\n",
        "15.Can you modify the elements of a tuple? Explain why or why not?\n",
        "\n",
        "  sol:we cannot modify the element in tupples as they are immutable\n",
        "  * while you cannot modify individual elements of a tuple directly, you can create a new tuple with the desired values combining existing tuples or replacing elements The key reason for this is that tuples are designed to be immutable, offering advantages like safety and efficiency in certain situations.\n",
        "\n",
        "\n",
        "---\n",
        "\n",
        "16.What is a nested dictionary, and give an example of its use case?\n",
        "\n",
        "  sol :A nested dictionary is a dictionary where the values themselves are dictionaries, creating a multi-level (hierarchical) structure. This allows you to represent more complex relationships, where each dictionary can store additional key-value pairs, and those values can also be dictionaries.\n",
        "\n",
        "  * example: managing a school system and need to store information about students, including their courses, grades, and personal details.\n",
        "---\n",
        "17.Describe the time complexity of accessing elements in a dictionary?\n",
        "\n",
        "  sol:Accessing an element in a dictionary (using a key) is usually very fast, taking constant time .\n",
        "This means that no matter how large the dictionary is, retrieving a value based on its key takes about the same amount of time.\n",
        "\n",
        "---\n",
        "18.In what situations are lists preferred over dictionaries\n",
        "\n",
        "  sol:\n",
        "  * Order matters: You need to keep the order of items (lists preserve the order).\n",
        "\n",
        "* Duplicates are needed: You want to store the same item multiple times.\n",
        "\n",
        "* Indexing by position: You need to access items by their position in the collection (e.g., the 3rd item).\n",
        "\n",
        "* Similar data: You're working with a collection of similar items (like numbers or strings).\n",
        "\n",
        "* Simple looping: You want to loop through items without needing key-value pairs.\n",
        "\n",
        "\n",
        "---\n",
        "19.Why are dictionaries considered unordered, and how does that affect data retrieval?\n",
        "\n",
        "  sol:Dictionaries are considered unordered because they store key-value pairs based on hashing, not in a specific sequence. This means the order of items isn't guaranteed.\n",
        "\n",
        "How it affects data retrieval:\n",
        "\n",
        "* Fast access by key: You can still quickly get values by their keys, and the order doesn’t matter for this.\n",
        "* No guaranteed order: Before Python 3.7, if you looped through a dictionary, the order of items could change each time.\n",
        "\n",
        "---\n",
        "20.Explain the difference between a list and a dictionary in terms of data retrieval.\n",
        "\n",
        "  sol: Data Retrieval in a List:\n",
        "Accessed by Index: In a list, data is accessed by its position or index. Lists are ordered, so each element has a specific index, starting from 0.\n",
        "Example: To get the 3rd item in a list, you use its index\n",
        "\n",
        "*  Data Retrieval in a Dictionary:\n",
        "Accessed by Key: In a dictionary, data is accessed using a key. Dictionaries are unordered (though they maintain insertion order starting from Python 3.7), so each value is linked to a unique key.\n",
        "Example: To get a value, you use its associated key\n",
        "\n",
        "---\n",
        "\n",
        "\n",
        "\n",
        "\n",
        "\n",
        "\n",
        "\n",
        "\n",
        "\n",
        "\n",
        "\n",
        "\n",
        "\n",
        "\n",
        "\n",
        "\n",
        "\n"
      ],
      "metadata": {
        "id": "WvsmRVDRqPFf"
      }
    },
    {
      "cell_type": "code",
      "source": [
        "#1. Write a code to create a string with your name and print it\n",
        "name = \"praveen\"\n",
        "print(\"hello\",name)"
      ],
      "metadata": {
        "colab": {
          "base_uri": "https://localhost:8080/"
        },
        "id": "aIkC-1NYNiCO",
        "outputId": "a634f509-3fb5-4f18-f400-fd1408038a78"
      },
      "execution_count": 2,
      "outputs": [
        {
          "output_type": "stream",
          "name": "stdout",
          "text": [
            "hello praveen\n"
          ]
        }
      ]
    },
    {
      "cell_type": "code",
      "source": [
        "# 2. Write a code to find the length of the string \"Hello World\"\n",
        "a = \"Hello World\"\n",
        "print(len(a))"
      ],
      "metadata": {
        "colab": {
          "base_uri": "https://localhost:8080/"
        },
        "id": "Ak7vOmrAOCkk",
        "outputId": "bc4e2300-74de-48c3-a085-0e1013365541"
      },
      "execution_count": 4,
      "outputs": [
        {
          "output_type": "stream",
          "name": "stdout",
          "text": [
            "11\n"
          ]
        }
      ]
    },
    {
      "cell_type": "code",
      "source": [
        "# 3. Write a code to slice the first 3 characters from the string \"Python Programming\"\n",
        "a=\"python progrmaing\"\n",
        "print(a[0:3])"
      ],
      "metadata": {
        "colab": {
          "base_uri": "https://localhost:8080/"
        },
        "id": "Ih-45acjOMGm",
        "outputId": "2514ba1f-211f-4f88-9134-0627f11960f6"
      },
      "execution_count": 5,
      "outputs": [
        {
          "output_type": "stream",
          "name": "stdout",
          "text": [
            "pyt\n"
          ]
        }
      ]
    },
    {
      "cell_type": "code",
      "source": [
        "#4. Write a code to convert the string \"hello\" to uppercase\n",
        "a=\"hello\"\n",
        "print(a.upper())"
      ],
      "metadata": {
        "colab": {
          "base_uri": "https://localhost:8080/"
        },
        "id": "daYkBrwAO0NV",
        "outputId": "7c9923b6-e914-41a8-b9d3-1cabf2e8a9dc"
      },
      "execution_count": 6,
      "outputs": [
        {
          "output_type": "stream",
          "name": "stdout",
          "text": [
            "HELLO\n"
          ]
        }
      ]
    },
    {
      "cell_type": "code",
      "source": [
        "# 5. Write a code to replace the word \"apple\" with \"orange\" in the string \"I like apple\"\n",
        "a=\"i like apple\"\n",
        "print(a.replace(\"apple\",\"orange\"))\n"
      ],
      "metadata": {
        "colab": {
          "base_uri": "https://localhost:8080/"
        },
        "id": "b_1saqnCPH5P",
        "outputId": "54bc5947-4ee4-48ef-8588-59177b12e7f0"
      },
      "execution_count": 7,
      "outputs": [
        {
          "output_type": "stream",
          "name": "stdout",
          "text": [
            "i like orange\n"
          ]
        }
      ]
    },
    {
      "cell_type": "code",
      "source": [
        "# 6.Write a code to create a list with numbers 1 to 5 and print it\n",
        "a=[1,2,3,4,5]\n",
        "print(a)"
      ],
      "metadata": {
        "colab": {
          "base_uri": "https://localhost:8080/"
        },
        "id": "c8evTtyLPqkS",
        "outputId": "a7c37d9e-2cab-45d2-e76f-8541ce4eac83"
      },
      "execution_count": 8,
      "outputs": [
        {
          "output_type": "stream",
          "name": "stdout",
          "text": [
            "[1, 2, 3, 4, 5]\n"
          ]
        }
      ]
    },
    {
      "cell_type": "code",
      "source": [
        "# 7. Write a code to append the number 10 to the list [1, 2, 3, 4]\n",
        "a=[1,2,3,4]\n",
        "a.append(10)\n",
        "print(a)"
      ],
      "metadata": {
        "colab": {
          "base_uri": "https://localhost:8080/"
        },
        "id": "mqS59c3rQEoc",
        "outputId": "ce581324-373f-4498-d86e-e318c23a3eac"
      },
      "execution_count": 9,
      "outputs": [
        {
          "output_type": "stream",
          "name": "stdout",
          "text": [
            "[1, 2, 3, 4, 10]\n"
          ]
        }
      ]
    },
    {
      "cell_type": "code",
      "source": [
        "# 8. Write a code to remove the number 3 from the list [1, 2, 3, 4, 5]\n",
        "a=[1,2,3,4,5]\n",
        "a.remove(3)\n",
        "print(a)"
      ],
      "metadata": {
        "colab": {
          "base_uri": "https://localhost:8080/"
        },
        "id": "sqmq8rW0QTnR",
        "outputId": "2baceae5-ef09-4aca-e98f-71e404701c36"
      },
      "execution_count": 10,
      "outputs": [
        {
          "output_type": "stream",
          "name": "stdout",
          "text": [
            "[1, 2, 4, 5]\n"
          ]
        }
      ]
    },
    {
      "cell_type": "code",
      "source": [
        "# 9. Write a code to access the second element in the list ['a', 'b', 'c', 'd']\n",
        "a=['a','b','c','d']\n",
        "print(a[1])\n",
        "\n"
      ],
      "metadata": {
        "colab": {
          "base_uri": "https://localhost:8080/"
        },
        "id": "nsyV_sfUQt79",
        "outputId": "8ea6985e-20f6-4982-d055-af96ec6c30f3"
      },
      "execution_count": 11,
      "outputs": [
        {
          "output_type": "stream",
          "name": "stdout",
          "text": [
            "b\n"
          ]
        }
      ]
    },
    {
      "cell_type": "code",
      "source": [
        "# 10. Write a code to reverse the list [10, 20, 30, 40, 50\n",
        "a=[10, 20, 30, 40, 50]\n",
        "a.reverse()\n",
        "print(a)"
      ],
      "metadata": {
        "colab": {
          "base_uri": "https://localhost:8080/"
        },
        "id": "cFk1zvx8RYsQ",
        "outputId": "3a380008-59e4-4b97-b164-a372aa73bfcb"
      },
      "execution_count": 12,
      "outputs": [
        {
          "output_type": "stream",
          "name": "stdout",
          "text": [
            "[50, 40, 30, 20, 10]\n"
          ]
        }
      ]
    },
    {
      "cell_type": "code",
      "source": [
        "# 11. Write a code to create a tuple with the elements 100, 200, 300 and print it.\n",
        "a=(100,200,300)\n",
        "print(a)"
      ],
      "metadata": {
        "colab": {
          "base_uri": "https://localhost:8080/"
        },
        "id": "FG3Ni4qDRs6u",
        "outputId": "a20653c9-e112-4136-9555-63d1f5dc4176"
      },
      "execution_count": 13,
      "outputs": [
        {
          "output_type": "stream",
          "name": "stdout",
          "text": [
            "(100, 200, 300)\n"
          ]
        }
      ]
    },
    {
      "cell_type": "code",
      "source": [
        "# 12. Write a code to access the second-to-last element of the tuple ('red', 'green', 'blue', 'yellow').\n",
        "a=('red', 'green', 'blue', 'yellow')\n",
        "print(a[-2])\n",
        "print(a[2])\n"
      ],
      "metadata": {
        "colab": {
          "base_uri": "https://localhost:8080/"
        },
        "id": "fYFD0_4USGBa",
        "outputId": "967ac5a6-320a-44a8-c048-d3a267cdfd95"
      },
      "execution_count": 15,
      "outputs": [
        {
          "output_type": "stream",
          "name": "stdout",
          "text": [
            "blue\n",
            "blue\n"
          ]
        }
      ]
    },
    {
      "cell_type": "code",
      "source": [
        "# 13. Write a code to find the minimum number in the tuple (10, 20, 5, 15).\n",
        "a= (10, 20, 5, 15)\n",
        "min_value = min(a)\n",
        "print(min_value)\n",
        "\n"
      ],
      "metadata": {
        "colab": {
          "base_uri": "https://localhost:8080/"
        },
        "id": "t9yZDS0lSkq1",
        "outputId": "81accef1-75b2-4530-cec8-7d26d6cfa796"
      },
      "execution_count": 16,
      "outputs": [
        {
          "output_type": "stream",
          "name": "stdout",
          "text": [
            "5\n"
          ]
        }
      ]
    },
    {
      "cell_type": "code",
      "source": [
        "# 14. Write a code to find the index of the element \"cat\" in the tuple ('dog', 'cat', 'rabbit').\n",
        "a=('dog', 'cat', 'rabbit')\n",
        "print(a.index('cat'))"
      ],
      "metadata": {
        "colab": {
          "base_uri": "https://localhost:8080/"
        },
        "id": "Z2UdfFH_TN0z",
        "outputId": "5575a4cd-ee0c-4ebf-8292-49f7a05c51cf"
      },
      "execution_count": 17,
      "outputs": [
        {
          "output_type": "stream",
          "name": "stdout",
          "text": [
            "1\n"
          ]
        }
      ]
    },
    {
      "cell_type": "code",
      "source": [
        "#15. Write a code to create a tuple containing three different fruits and check if \"kiwi\" is in it.\n",
        "a=(\"apple\",\"banana\",\"kiwi\")\n",
        "if \"kiwi\" in a:\n",
        "  print(\"present\")"
      ],
      "metadata": {
        "colab": {
          "base_uri": "https://localhost:8080/"
        },
        "id": "31ub2_D5Tk2x",
        "outputId": "8fed1eec-7986-4855-f62d-a83f2d963a22"
      },
      "execution_count": 19,
      "outputs": [
        {
          "output_type": "stream",
          "name": "stdout",
          "text": [
            "present\n"
          ]
        }
      ]
    },
    {
      "cell_type": "code",
      "source": [
        "# 16. Write a code to create a set with the elements 'a', 'b', 'c' and print it.\n",
        "a={'a', 'b', 'c'}\n",
        "print(a)"
      ],
      "metadata": {
        "colab": {
          "base_uri": "https://localhost:8080/"
        },
        "id": "DBzdqaq0UQse",
        "outputId": "9291f634-2880-4727-ad63-a840a93e4385"
      },
      "execution_count": 21,
      "outputs": [
        {
          "output_type": "stream",
          "name": "stdout",
          "text": [
            "{'a', 'b', 'c'}\n"
          ]
        }
      ]
    },
    {
      "cell_type": "code",
      "source": [
        "# 17. Write a code to clear all elements from the set {1, 2, 3, 4, 5}\n",
        "a= {1, 2, 3, 4, 5}\n",
        "a.clear()\n",
        "print(a)"
      ],
      "metadata": {
        "colab": {
          "base_uri": "https://localhost:8080/"
        },
        "id": "4PvLehIdUhW2",
        "outputId": "ec61915a-91bf-4d09-aa34-2dcb7ea8a0ed"
      },
      "execution_count": 22,
      "outputs": [
        {
          "output_type": "stream",
          "name": "stdout",
          "text": [
            "set()\n"
          ]
        }
      ]
    },
    {
      "cell_type": "code",
      "source": [
        "#18. Write a code to remove the element 4 from the set {1, 2, 3, 4}.\n",
        "a={1, 2, 3, 4}\n",
        "a.remove(4)\n",
        "print(a)"
      ],
      "metadata": {
        "colab": {
          "base_uri": "https://localhost:8080/"
        },
        "id": "rNu1y3DbUwa-",
        "outputId": "7d4d6aa3-951e-4bae-86a0-2e5924a9bf62"
      },
      "execution_count": 23,
      "outputs": [
        {
          "output_type": "stream",
          "name": "stdout",
          "text": [
            "{1, 2, 3}\n"
          ]
        }
      ]
    },
    {
      "cell_type": "code",
      "source": [
        "# 19. Write a code to find the union of two sets {1, 2, 3} and {3, 4, 5}\n",
        "set_1={1, 2, 3}\n",
        "set_2={3, 4, 5}\n",
        "union_set=set_1.union(set_2)\n",
        "print(union_set)"
      ],
      "metadata": {
        "colab": {
          "base_uri": "https://localhost:8080/"
        },
        "id": "GNUxwPBPU6i0",
        "outputId": "b5cf01f9-e992-43f2-9d99-43fc800ae2d2"
      },
      "execution_count": 24,
      "outputs": [
        {
          "output_type": "stream",
          "name": "stdout",
          "text": [
            "{1, 2, 3, 4, 5}\n"
          ]
        }
      ]
    },
    {
      "cell_type": "code",
      "source": [
        "#20. Write a code to find the intersection of two sets {1, 2, 3} and {2, 3, 4}\n",
        "set_1={1, 2, 3}\n",
        "set_2={2, 3, 4}\n",
        "intersection_set=set_1.intersection(set_2)\n",
        "print(intersection_set)"
      ],
      "metadata": {
        "colab": {
          "base_uri": "https://localhost:8080/"
        },
        "id": "4-Ffjq-nVX84",
        "outputId": "e650f613-bc9e-4609-9335-e06c9052720f"
      },
      "execution_count": 25,
      "outputs": [
        {
          "output_type": "stream",
          "name": "stdout",
          "text": [
            "{2, 3}\n"
          ]
        }
      ]
    },
    {
      "cell_type": "code",
      "source": [
        "#21. Write a code to create a dictionary with the keys \"name\", \"age\", and \"city\", and print it.\n",
        "a={\"name\":\"praveen\",\"age\":24,\"city\":\"bengaluru\"}\n",
        "print(a)"
      ],
      "metadata": {
        "colab": {
          "base_uri": "https://localhost:8080/"
        },
        "id": "uXo8E7aNVjan",
        "outputId": "3c6b1f54-5c71-49de-f325-6f873e8aef80"
      },
      "execution_count": 26,
      "outputs": [
        {
          "output_type": "stream",
          "name": "stdout",
          "text": [
            "{'name': 'praveen', 'age': 24, 'city': 'bengaluru'}\n"
          ]
        }
      ]
    },
    {
      "cell_type": "code",
      "source": [
        "# 22. Write a code to add a new key-value pair \"country\": \"USA\" to the dictionary {'name': 'John', 'age': 25}\n",
        "a= {'name': 'John', 'age': 25}\n",
        "a[\"country\"]=\"usa\"\n",
        "print(a)"
      ],
      "metadata": {
        "colab": {
          "base_uri": "https://localhost:8080/"
        },
        "id": "-W2kYsa8V7L7",
        "outputId": "67020b28-2e83-4b99-dc7a-29e85f833623"
      },
      "execution_count": 30,
      "outputs": [
        {
          "output_type": "stream",
          "name": "stdout",
          "text": [
            "{'name': 'John', 'age': 25, 'country': 'usa'}\n"
          ]
        }
      ]
    },
    {
      "cell_type": "code",
      "source": [
        "# 23. Write a code to access the value associated with the key \"name\" in the dictionary {'name': 'Alice', 'age': 30}.\n",
        "a={'name': 'Alice', 'age': 30}\n",
        "print(a[\"name\"])"
      ],
      "metadata": {
        "colab": {
          "base_uri": "https://localhost:8080/"
        },
        "id": "hi9CagiSWzxs",
        "outputId": "d582f4cf-ab98-408b-f60c-781e561bdc8a"
      },
      "execution_count": 31,
      "outputs": [
        {
          "output_type": "stream",
          "name": "stdout",
          "text": [
            "Alice\n"
          ]
        }
      ]
    },
    {
      "cell_type": "code",
      "source": [
        " #24.Write a code to remove the key \"age\" from the dictionary {'name': 'Bob', 'age': 22, 'city': 'New York'}.\n",
        " a = {'name': 'Bob', 'age': 22, 'city': 'New York'}\n",
        "a.pop('age')\n",
        "\n",
        "print(a)\n"
      ],
      "metadata": {
        "colab": {
          "base_uri": "https://localhost:8080/"
        },
        "id": "gX8IoObTXBKT",
        "outputId": "a971dc65-d900-41c2-92af-ee161d54200a"
      },
      "execution_count": 36,
      "outputs": [
        {
          "output_type": "stream",
          "name": "stdout",
          "text": [
            "{'name': 'Bob', 'city': 'New York'}\n"
          ]
        }
      ]
    },
    {
      "cell_type": "code",
      "source": [
        "#25. Write a code to check if the key \"city\" exists in the dictionary {'name': 'Alice', 'city': 'Paris'}.\n",
        "a={'name': 'Alice', 'city': 'Paris'}\n",
        "if \"city\" in a:\n",
        "  print(\"yes\")\n",
        "else:\n",
        "    print(\"no\")"
      ],
      "metadata": {
        "colab": {
          "base_uri": "https://localhost:8080/"
        },
        "id": "lXkEm-zZYMgx",
        "outputId": "7a11e668-9d5a-4eb4-e5a2-9d340ea13c54"
      },
      "execution_count": 39,
      "outputs": [
        {
          "output_type": "stream",
          "name": "stdout",
          "text": [
            "yes\n"
          ]
        }
      ]
    },
    {
      "cell_type": "code",
      "source": [
        "#26. Write a code to create a list, a tuple, and a dictionary, and print them all.\n",
        "a=[1,2,3,4]\n",
        "b=(1,2,3,4)\n",
        "c={\"name\":\"praveen\",\"age\":24,\"city\":\"bengaluru\"}\n",
        "print(a,b,c)"
      ],
      "metadata": {
        "colab": {
          "base_uri": "https://localhost:8080/"
        },
        "id": "Q-HIdzomYwzM",
        "outputId": "21c39bae-3af7-44ca-ad51-6a13fc77c53d"
      },
      "execution_count": 40,
      "outputs": [
        {
          "output_type": "stream",
          "name": "stdout",
          "text": [
            "[1, 2, 3, 4] (1, 2, 3, 4) {'name': 'praveen', 'age': 24, 'city': 'bengaluru'}\n"
          ]
        }
      ]
    },
    {
      "cell_type": "code",
      "source": [
        "#27. Write a code to create a list of 5 random numbers between 1 and 100, sort it in ascending order, and print the result.(replaced)\n",
        "a=[55,95,5,33,1,9]\n",
        "a.sort(reverse=False)\n",
        "print(a)"
      ],
      "metadata": {
        "colab": {
          "base_uri": "https://localhost:8080/"
        },
        "id": "RV2h_C4NY5ZI",
        "outputId": "4025f5f2-4217-443a-c17d-8343c5eb4ba5"
      },
      "execution_count": 44,
      "outputs": [
        {
          "output_type": "stream",
          "name": "stdout",
          "text": [
            "[1, 5, 9, 33, 55, 95]\n"
          ]
        }
      ]
    },
    {
      "cell_type": "code",
      "source": [
        "# 28. Write a code to create a list with strings and print the element at the third index.\n",
        "a=[\"apple\",\"ball\",\"cat\", \"dog\"]\n",
        "print(a[3])"
      ],
      "metadata": {
        "colab": {
          "base_uri": "https://localhost:8080/"
        },
        "id": "d1PlJK1WZxYZ",
        "outputId": "c2fc979f-6da9-422d-9207-b568ff0f498e"
      },
      "execution_count": 45,
      "outputs": [
        {
          "output_type": "stream",
          "name": "stdout",
          "text": [
            "dog\n"
          ]
        }
      ]
    },
    {
      "cell_type": "code",
      "source": [
        "#29. Write a code to combine two dictionaries into one and print the result.\n",
        "dict_1 = {'a': 1, 'b': 2}\n",
        "dict_2 = {'c': 3, 'd': 4}\n",
        "combined_dict = {**dict_1, **dict_2}\n",
        "print(combined_dict)"
      ],
      "metadata": {
        "colab": {
          "base_uri": "https://localhost:8080/"
        },
        "id": "kVpGbIyoam3P",
        "outputId": "20830d7e-ceee-4d0f-aee8-50f4ade878e8"
      },
      "execution_count": 47,
      "outputs": [
        {
          "output_type": "stream",
          "name": "stdout",
          "text": [
            "{'a': 1, 'b': 2, 'c': 3, 'd': 4}\n"
          ]
        }
      ]
    },
    {
      "cell_type": "code",
      "source": [
        "#30. Write a code to convert a list of strings into a set.\n",
        "a=[\"apple\",\"ball\",\"cat\", \"dog\"]\n",
        "b=set(a)\n",
        "print(b)"
      ],
      "metadata": {
        "colab": {
          "base_uri": "https://localhost:8080/"
        },
        "id": "BDP4suPOa-60",
        "outputId": "d8cac0fb-3fe4-4abc-bd42-286fa46dc4b0"
      },
      "execution_count": 46,
      "outputs": [
        {
          "output_type": "stream",
          "name": "stdout",
          "text": [
            "{'dog', 'ball', 'apple', 'cat'}\n"
          ]
        }
      ]
    }
  ]
}